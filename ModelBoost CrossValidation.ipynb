{
 "cells": [
  {
   "cell_type": "markdown",
   "id": "spoken-bulgarian",
   "metadata": {},
   "source": [
    "# Model Selection and Cross Validation"
   ]
  },
  {
   "cell_type": "markdown",
   "id": "received-philip",
   "metadata": {},
   "source": [
    "#### Importing Libraries"
   ]
  },
  {
   "cell_type": "code",
   "execution_count": 1,
   "id": "cheap-microphone",
   "metadata": {},
   "outputs": [],
   "source": [
    "import pandas as pd\n",
    "import numpy as np"
   ]
  },
  {
   "cell_type": "markdown",
   "id": "satellite-trial",
   "metadata": {},
   "source": [
    "#### Importing data Set"
   ]
  },
  {
   "cell_type": "code",
   "execution_count": 6,
   "id": "artistic-huntington",
   "metadata": {},
   "outputs": [],
   "source": [
    "df=pd.read_csv('C://Users//553341//Desktop//krish//Purchased_Dataset.csv')"
   ]
  },
  {
   "cell_type": "code",
   "execution_count": 7,
   "id": "laden-making",
   "metadata": {},
   "outputs": [
    {
     "data": {
      "text/html": [
       "<div>\n",
       "<style scoped>\n",
       "    .dataframe tbody tr th:only-of-type {\n",
       "        vertical-align: middle;\n",
       "    }\n",
       "\n",
       "    .dataframe tbody tr th {\n",
       "        vertical-align: top;\n",
       "    }\n",
       "\n",
       "    .dataframe thead th {\n",
       "        text-align: right;\n",
       "    }\n",
       "</style>\n",
       "<table border=\"1\" class=\"dataframe\">\n",
       "  <thead>\n",
       "    <tr style=\"text-align: right;\">\n",
       "      <th></th>\n",
       "      <th>User ID</th>\n",
       "      <th>Gender</th>\n",
       "      <th>Age</th>\n",
       "      <th>EstimatedSalary</th>\n",
       "      <th>Purchased</th>\n",
       "    </tr>\n",
       "  </thead>\n",
       "  <tbody>\n",
       "    <tr>\n",
       "      <th>0</th>\n",
       "      <td>15624510</td>\n",
       "      <td>Male</td>\n",
       "      <td>19</td>\n",
       "      <td>19000</td>\n",
       "      <td>0</td>\n",
       "    </tr>\n",
       "    <tr>\n",
       "      <th>1</th>\n",
       "      <td>15810944</td>\n",
       "      <td>Male</td>\n",
       "      <td>35</td>\n",
       "      <td>20000</td>\n",
       "      <td>0</td>\n",
       "    </tr>\n",
       "    <tr>\n",
       "      <th>2</th>\n",
       "      <td>15668575</td>\n",
       "      <td>Female</td>\n",
       "      <td>26</td>\n",
       "      <td>43000</td>\n",
       "      <td>0</td>\n",
       "    </tr>\n",
       "    <tr>\n",
       "      <th>3</th>\n",
       "      <td>15603246</td>\n",
       "      <td>Female</td>\n",
       "      <td>27</td>\n",
       "      <td>57000</td>\n",
       "      <td>0</td>\n",
       "    </tr>\n",
       "    <tr>\n",
       "      <th>4</th>\n",
       "      <td>15804002</td>\n",
       "      <td>Male</td>\n",
       "      <td>19</td>\n",
       "      <td>76000</td>\n",
       "      <td>0</td>\n",
       "    </tr>\n",
       "  </tbody>\n",
       "</table>\n",
       "</div>"
      ],
      "text/plain": [
       "    User ID  Gender  Age  EstimatedSalary  Purchased\n",
       "0  15624510    Male   19            19000          0\n",
       "1  15810944    Male   35            20000          0\n",
       "2  15668575  Female   26            43000          0\n",
       "3  15603246  Female   27            57000          0\n",
       "4  15804002    Male   19            76000          0"
      ]
     },
     "execution_count": 7,
     "metadata": {},
     "output_type": "execute_result"
    }
   ],
   "source": [
    "df.head()"
   ]
  },
  {
   "cell_type": "markdown",
   "id": "boxed-boating",
   "metadata": {},
   "source": [
    "#### Dividing data into Dependent and Independent category"
   ]
  },
  {
   "cell_type": "code",
   "execution_count": 8,
   "id": "virtual-grill",
   "metadata": {},
   "outputs": [],
   "source": [
    "# Here User ID is of no use for now we are excluding Gender column because it is category we  are not focusing encoding\n",
    "x=df[['Age','EstimatedSalary']]\n",
    "y=df['Purchased']"
   ]
  },
  {
   "cell_type": "code",
   "execution_count": 4,
   "id": "convertible-strap",
   "metadata": {},
   "outputs": [],
   "source": [
    "# We are solving the classification problem so we are are going to use KNN Algo and will import all necessary libraries\n",
    "from sklearn.model_selection import train_test_split\n",
    "from sklearn.neighbors import KNeighborsClassifier\n",
    "from sklearn import metrics"
   ]
  },
  {
   "cell_type": "code",
   "execution_count": 9,
   "id": "pointed-communication",
   "metadata": {},
   "outputs": [],
   "source": [
    "#All the required libraries are imported so we will peform Train Test split\n",
    "X_train,X_test,y_train,y_test=train_test_split(x,y,random_state=5)"
   ]
  },
  {
   "cell_type": "code",
   "execution_count": 17,
   "id": "arranged-house",
   "metadata": {},
   "outputs": [
    {
     "data": {
      "text/plain": [
       "0.77"
      ]
     },
     "execution_count": 17,
     "metadata": {},
     "output_type": "execute_result"
    }
   ],
   "source": [
    "#Apply the Algorith.\n",
    "#create the object of class KNeighborsClassifier\n",
    "#fit the object on X_train and y_train\n",
    "knnclassifier = KNeighborsClassifier(n_neighbors=5)# it is good to take even value for KNN\n",
    "knnclassifier.fit(X_train,y_train)  #fit the object on X_train and y_train\n",
    "y_pred=knnclassifier.predict(X_test)# use same object on test data\n",
    "metrics.accuracy_score(y_test,y_pred) #predict the accuracy of the model\n"
   ]
  },
  {
   "cell_type": "markdown",
   "id": "forbidden-kruger",
   "metadata": {},
   "source": [
    "##### copy above code and change value of random_state and see the result.\n",
    "Our key point is to check the effect of accuracy by changing the random_sate"
   ]
  },
  {
   "cell_type": "code",
   "execution_count": 18,
   "id": "annoying-knight",
   "metadata": {},
   "outputs": [
    {
     "data": {
      "text/plain": [
       "0.81"
      ]
     },
     "execution_count": 18,
     "metadata": {},
     "output_type": "execute_result"
    }
   ],
   "source": [
    "X_train,X_test,y_train,y_test=train_test_split(x,y,random_state=3)  # here we have take random_state=3\n",
    "knnclassifier = KNeighborsClassifier(n_neighbors=5)# it is good to take even value for KNN\n",
    "knnclassifier.fit(X_train,y_train)  #fit the object on X_train and y_train\n",
    "y_pred=knnclassifier.predict(X_test)# use same object on test data\n",
    "metrics.accuracy_score(y_test,y_pred) #predict the accuracy of the model"
   ]
  },
  {
   "cell_type": "markdown",
   "id": "hispanic-programming",
   "metadata": {},
   "source": [
    "We have same data but just by changing the random_state value we are getting different different accuracy score.\n",
    "Which si the big issue, it is verry difficult to decide which random ste need to be choosen and which is correct score. \n",
    "To overcome this problem we have a technique called cross validation."
   ]
  },
  {
   "cell_type": "markdown",
   "id": "placed-compromise",
   "metadata": {},
   "source": [
    "## Cross Validation\n",
    "\n",
    "it is technique which involves reserving a particular sample of a dataset on which we do not train the model. Later we test the model on this sample before finalizing the model.\n",
    "\n",
    "Below are the steps of cross validation.\n",
    "\n",
    "- Reserve sample data set.\n",
    "- Train model on remaining part of the data set.\n",
    "- User reserve samle of data  set Test (validaion)set. this wil help to know effectiveness of the model performance. If our model delevers a positive result on validation data, then proceed with current model."
   ]
  },
  {
   "cell_type": "markdown",
   "id": "waiting-completion",
   "metadata": {},
   "source": [
    "Here we are using library called cross_val_score from sklearn"
   ]
  },
  {
   "cell_type": "code",
   "execution_count": 25,
   "id": "attended-output",
   "metadata": {},
   "outputs": [
    {
     "data": {
      "text/plain": [
       "0.7849999999999999"
      ]
     },
     "execution_count": 25,
     "metadata": {},
     "output_type": "execute_result"
    }
   ],
   "source": [
    "from sklearn.model_selection import cross_val_score\n",
    "knnclassifier = KNeighborsClassifier(n_neighbors=5)\n",
    "# cross_val_score(knnclassifier,x,y,cv=10,scoring='accuracy')  # q\n",
    "# q: will give sore for each experiment.\n",
    "cross_val_score(knnclassifier,x,y,cv=10,scoring='accuracy').mean()\n",
    "# cv=10 means in 10 equal parts our data will be divided\n",
    "# scoring ='accuracy' : knnclassifier will directly compute scoring for accuracy level."
   ]
  },
  {
   "cell_type": "markdown",
   "id": "designing-natural",
   "metadata": {},
   "source": [
    "#### Lets try applysing different Algo on same data to see the performance.\n",
    "We are going to apply Logistic Regression"
   ]
  },
  {
   "cell_type": "code",
   "execution_count": 26,
   "id": "consistent-surfing",
   "metadata": {},
   "outputs": [
    {
     "data": {
      "text/plain": [
       "0.6425000000000001"
      ]
     },
     "execution_count": 26,
     "metadata": {},
     "output_type": "execute_result"
    }
   ],
   "source": [
    "from sklearn.linear_model import LogisticRegression\n",
    "logreg=LogisticRegression()\n",
    "cross_val_score(logreg,x,y,cv=10,scoring='accuracy').mean()"
   ]
  },
  {
   "cell_type": "markdown",
   "id": "internal-recovery",
   "metadata": {},
   "source": [
    "By seeing both the Algo performance definately KNN is performing good on the given data"
   ]
  },
  {
   "cell_type": "markdown",
   "id": "stuffed-advantage",
   "metadata": {},
   "source": [
    "### Conclusion\n",
    "random_state i.e randomly choosing data from Train Test split affect lot on performance. It may increase or decrease performance. To vercome this we use cross validation to get mean of performace and accuracy."
   ]
  },
  {
   "cell_type": "code",
   "execution_count": null,
   "id": "maritime-houston",
   "metadata": {},
   "outputs": [],
   "source": []
  }
 ],
 "metadata": {
  "kernelspec": {
   "display_name": "Python 3",
   "language": "python",
   "name": "python3"
  },
  "language_info": {
   "codemirror_mode": {
    "name": "ipython",
    "version": 3
   },
   "file_extension": ".py",
   "mimetype": "text/x-python",
   "name": "python",
   "nbconvert_exporter": "python",
   "pygments_lexer": "ipython3",
   "version": "3.8.3"
  }
 },
 "nbformat": 4,
 "nbformat_minor": 5
}
